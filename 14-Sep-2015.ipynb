{
 "cells": [
  {
   "cell_type": "markdown",
   "metadata": {},
   "source": [
    "With this code I capture the first 5k stages of the simulation for both resources and pop-size in the sexual model with the 'pop' condition, i.e. with resources and population size depending on each other. The run I am capturing is pop5 from 17-Jun-2015   \n",
    "The output file is ready to be used as an input file for R, using [this](https://github.com/dvalenzano/R-sessions/blob/10-Jul-2015.R/15-Jul-2015.R) script"
   ]
  },
  {
   "cell_type": "code",
   "execution_count": 68,
   "metadata": {
    "collapsed": false
   },
   "outputs": [],
   "source": [
    "import numpy as np\n",
    "from scipy import interpolate\n",
    "#import matplotlib.pyplot as plt\n",
    "import cPickle\n",
    "from time import sleep"
   ]
  },
  {
   "cell_type": "code",
   "execution_count": 69,
   "metadata": {
    "collapsed": true
   },
   "outputs": [],
   "source": [
    "class cp(object):\n",
    "    def __init__(self, inp):\n",
    "        self.inp = inp\n",
    "        self.o = open(self.inp, 'rb')\n",
    "        self.pop_in = cPickle.load(self.o)\n",
    "        self.n_stage = len(self.pop_in)-1\n",
    "        self.res_in = cPickle.load(self.o)\n",
    "        self.age_distr_in = cPickle.load(self.o)\n",
    "        #print np.shape(age_distr_in[0])                                                                                                                                                                                         \n",
    "        self.repr_rate_in = cPickle.load(self.o)\n",
    "        self.repr_rate_sd_in = cPickle.load(self.o)\n",
    "        for i in range(len(self.repr_rate_sd_in)):\n",
    "            self.repr_rate_sd_in[i] = np.array(self.repr_rate_sd_in[i])\n",
    "            self.repr_rate_sd_in[i].shape = (71,1)\n",
    "        self.repr_rate_junk_in = cPickle.load(self.o)\n",
    "        self.surv_rate_in = cPickle.load(self.o)\n",
    "        self.surv_rate_sd_in = cPickle.load(self.o)\n",
    "        for i in range(len(self.surv_rate_sd_in)):\n",
    "            self.surv_rate_sd_in[i] = np.array(self.surv_rate_sd_in[i])\n",
    "            self.surv_rate_sd_in[i].shape = (71,1)\n",
    "        self.surv_rate_junk_in = cPickle.load(self.o)\n",
    "        self.repr_fit_in = cPickle.load(self.o)\n",
    "        self.repr_fit_junk_in = cPickle.load(self.o)\n",
    "        self.surv_fit_in = cPickle.load(self.o)\n",
    "        self.surv_fit_junk_in = cPickle.load(self.o)\n",
    "        self.fit_in = np.array(self.repr_fit_in)*np.array(self.surv_fit_in)\n",
    "        self.fit_junk_in = np.array(self.repr_fit_junk_in)*np.array(self.surv_fit_junk_in)\n",
    "        self.dens_surv_in = cPickle.load(self.o)\n",
    "        self.dens_repr_in = cPickle.load(self.o)\n",
    "        self.hetrz_mea = cPickle.load(self.o)\n",
    "        self.hetrz_mea_sd = cPickle.load(self.o) # when simul version > 0.6                                                                                                                                                                \n",
    "        self.males_females_ages = cPickle.load(self.o)\n",
    "        self.o.close()\n",
    "        \n",
    "    # actual survival series                                                                                                                                                                                                 \n",
    "    def compute_actual_surv_rate(self, p):\n",
    "        #self.p = p\n",
    "        \"\"\"                                                                                                                                                                                                                  \n",
    "        Takes age distribution of two consecutive stages and computes the                                                                                                                                                    \n",
    "        fractions of those survived from age x to age x+1. The cumulative product                                                                                                                                            \n",
    "        of those values builds the final result.                                                                                                                                                                             \n",
    "        Returns a numpy array.                                                                                                                                                                                               \n",
    "        \"\"\"\n",
    "        div = self.age_distr_in[p]*self.pop_in[p]\n",
    "        div[div == 0] = 1\n",
    "        stage2 = np.array(list((self.age_distr_in[p+1]*self.pop_in[p+1]))[1:]+[0])\n",
    "\n",
    "        res = stage2 / div\n",
    "        for i in range(1,len(res)):\n",
    "            res[i] = res[i-1] * res[i]\n",
    "        return res        \n",
    "\n",
    "    def avr_actual_surv_rate(self, m):\n",
    "        \"\"\"Averages actual survival rate over 100 stages.\"\"\"\n",
    "        if m <= 50:\n",
    "            res2 = self.compute_actual_surv_rate(m+100)\n",
    "            for i in range(m,m+100):\n",
    "                res2 += self.compute_actual_surv_rate(i)\n",
    "            return res2/100\n",
    "        if m >= self.n_stage-50:\n",
    "            res2 = self.compute_actual_surv_rate(self.n_stage-101)\n",
    "            for i in range(self.n_stage-100,self.n_stage-1):\n",
    "                res2 += self.compute_actual_surv_rate(i)\n",
    "            return res2/100\n",
    "        else:\n",
    "            res2 = self.compute_actual_surv_rate(m+50)\n",
    "            for i in range(m-50,m+50):\n",
    "                res2 += self.compute_actual_surv_rate(i)\n",
    "            return res2/100\n"
   ]
  },
  {
   "cell_type": "code",
   "execution_count": 70,
   "metadata": {
    "collapsed": true
   },
   "outputs": [],
   "source": [
    "class het(object):\n",
    "    \n",
    "    \"\"\" This class allows to averaging 10 consecutive intervals to plot the genome evolution scatterplot \"\"\"\n",
    "    \n",
    "    def __init__(self, inp):\n",
    "        self.inp = inp\n",
    "        self.rng = range(len(self.inp[0]))[::10]\n",
    "\n",
    "    def loop1(self, ind):\n",
    "        self.ind = int(ind)\n",
    "        return [np.average(self.inp[self.ind][i:i+10]) for i in self.rng]\n",
    "    \n",
    "    def loop2(self):\n",
    "        return [self.loop1(i) for i in range(len(self.inp))]"
   ]
  },
  {
   "cell_type": "code",
   "execution_count": 71,
   "metadata": {
    "collapsed": true
   },
   "outputs": [],
   "source": [
    "s = '/Volumes/group_dv/personal/DValenzano/month-by-month/Sep2015/simul-paper/pop/plot_values_run1.txt'"
   ]
  },
  {
   "cell_type": "code",
   "execution_count": 72,
   "metadata": {
    "collapsed": true
   },
   "outputs": [],
   "source": [
    "spop = cp(s)\n",
    "sp = spop.pop_in\n",
    "sr = spop.res_in"
   ]
  },
  {
   "cell_type": "code",
   "execution_count": 79,
   "metadata": {
    "collapsed": false
   },
   "outputs": [],
   "source": [
    "pop_5k = sp[:5000]\n",
    "res_5k = sr[:5000]\n",
    "time = range(1,5001)"
   ]
  },
  {
   "cell_type": "code",
   "execution_count": 80,
   "metadata": {
    "collapsed": false
   },
   "outputs": [],
   "source": [
    "p = ['population']+[str(i) for i in pop_5k]\n",
    "r = ['resources']+[str(i) for i in res_5k]\n",
    "t = ['time']+[str(i) for i in time]\n",
    "\n",
    "l = [p,r,t]\n",
    "lt = zip(*l)\n",
    "#ltl = [list(i) for i in lt]\n",
    "ltl = ','.join([','.join(list(i))+'\\n' for i in lt]).replace('\\n,','\\n')\n",
    "z = open('/Volumes/group_dv/personal/DValenzano/month-by-month/Sep2015/simul-paper/pop/popres2.csv','w')\n",
    "z.write(ltl)\n",
    "z.close()"
   ]
  },
  {
   "cell_type": "code",
   "execution_count": 61,
   "metadata": {
    "collapsed": false
   },
   "outputs": [
    {
     "data": {
      "text/plain": [
       "'population,resources'"
      ]
     },
     "execution_count": 61,
     "metadata": {},
     "output_type": "execute_result"
    }
   ],
   "source": [
    "','.join(ltl[0])"
   ]
  },
  {
   "cell_type": "code",
   "execution_count": 78,
   "metadata": {
    "collapsed": false
   },
   "outputs": [
    {
     "data": {
      "text/plain": [
       "[4981,\n",
       " 4982,\n",
       " 4983,\n",
       " 4984,\n",
       " 4985,\n",
       " 4986,\n",
       " 4987,\n",
       " 4988,\n",
       " 4989,\n",
       " 4990,\n",
       " 4991,\n",
       " 4992,\n",
       " 4993,\n",
       " 4994,\n",
       " 4995,\n",
       " 4996,\n",
       " 4997,\n",
       " 4998,\n",
       " 4999]"
      ]
     },
     "execution_count": 78,
     "metadata": {},
     "output_type": "execute_result"
    }
   ],
   "source": [
    "time[-19:]"
   ]
  },
  {
   "cell_type": "code",
   "execution_count": null,
   "metadata": {
    "collapsed": true
   },
   "outputs": [],
   "source": []
  }
 ],
 "metadata": {
  "kernelspec": {
   "display_name": "Python 2",
   "language": "python",
   "name": "python2"
  },
  "language_info": {
   "codemirror_mode": {
    "name": "ipython",
    "version": 2
   },
   "file_extension": ".py",
   "mimetype": "text/x-python",
   "name": "python",
   "nbconvert_exporter": "python",
   "pygments_lexer": "ipython2",
   "version": "2.7.10"
  }
 },
 "nbformat": 4,
 "nbformat_minor": 0
}
