{
 "cells": [
  {
   "cell_type": "markdown",
   "metadata": {},
   "source": [
    "With this code I capture the first 5k stages of the simulation for both resources and pop-size in the sexual model with the 'pop' condition, i.e. with resources and population size depending on each other. The run I am capturing is pop5 from 17-Jun-2015   \n",
    "The output file is ready to be used as an input file for R, using [this](https://github.com/dvalenzano/R-sessions/blob/10-Jul-2015.R/15-Jul-2015.R) script"
   ]
  },
  {
   "cell_type": "code",
   "execution_count": 68,
   "metadata": {
    "collapsed": false
   },
   "outputs": [],
   "source": [
    "import numpy as np\n",
    "from scipy import interpolate\n",
    "#import matplotlib.pyplot as plt\n",
    "import cPickle\n",
    "from time import sleep"
   ]
  },
  {
   "cell_type": "code",
   "execution_count": 69,
   "metadata": {
    "collapsed": true
   },
   "outputs": [],
   "source": [
    "class cp(object):\n",
    "    def __init__(self, inp):\n",
    "        self.inp = inp\n",
    "        self.o = open(self.inp, 'rb')\n",
    "        self.pop_in = cPickle.load(self.o)\n",
    "        self.n_stage = len(self.pop_in)-1\n",
    "        self.res_in = cPickle.load(self.o)\n",
    "        self.age_distr_in = cPickle.load(self.o)\n",
    "        #print np.shape(age_distr_in[0])                                                                                                                                                                                         \n",
    "        self.repr_rate_in = cPickle.load(self.o)\n",
    "        self.repr_rate_sd_in = cPickle.load(self.o)\n",
    "        for i in range(len(self.repr_rate_sd_in)):\n",
    "            self.repr_rate_sd_in[i] = np.array(self.repr_rate_sd_in[i])\n",
    "            self.repr_rate_sd_in[i].shape = (71,1)\n",
    "        self.repr_rate_junk_in = cPickle.load(self.o)\n",
    "        self.surv_rate_in = cPickle.load(self.o)\n",
    "        self.surv_rate_sd_in = cPickle.load(self.o)\n",
    "        for i in range(len(self.surv_rate_sd_in)):\n",
    "            self.surv_rate_sd_in[i] = np.array(self.surv_rate_sd_in[i])\n",
    "            self.surv_rate_sd_in[i].shape = (71,1)\n",
    "        self.surv_rate_junk_in = cPickle.load(self.o)\n",
    "        self.repr_fit_in = cPickle.load(self.o)\n",
    "        self.repr_fit_junk_in = cPickle.load(self.o)\n",
    "        self.surv_fit_in = cPickle.load(self.o)\n",
    "        self.surv_fit_junk_in = cPickle.load(self.o)\n",
    "        self.fit_in = np.array(self.repr_fit_in)*np.array(self.surv_fit_in)\n",
    "        self.fit_junk_in = np.array(self.repr_fit_junk_in)*np.array(self.surv_fit_junk_in)\n",
    "        self.dens_surv_in = cPickle.load(self.o)\n",
    "        self.dens_repr_in = cPickle.load(self.o)\n",
    "        self.hetrz_mea = cPickle.load(self.o)\n",
    "        self.hetrz_mea_sd = cPickle.load(self.o) # when simul version > 0.6                                                                                                                                                                \n",
    "        self.males_females_ages = cPickle.load(self.o)\n",
    "        self.o.close()\n",
    "        \n",
    "    # actual survival series                                                                                                                                                                                                 \n",
    "    def compute_actual_surv_rate(self, p):\n",
    "        #self.p = p\n",
    "        \"\"\"                                                                                                                                                                                                                  \n",
    "        Takes age distribution of two consecutive stages and computes the                                                                                                                                                    \n",
    "        fractions of those survived from age x to age x+1. The cumulative product                                                                                                                                            \n",
    "        of those values builds the final result.                                                                                                                                                                             \n",
    "        Returns a numpy array.                                                                                                                                                                                               \n",
    "        \"\"\"\n",
    "        div = self.age_distr_in[p]*self.pop_in[p]\n",
    "        div[div == 0] = 1\n",
    "        stage2 = np.array(list((self.age_distr_in[p+1]*self.pop_in[p+1]))[1:]+[0])\n",
    "\n",
    "        res = stage2 / div\n",
    "        for i in range(1,len(res)):\n",
    "            res[i] = res[i-1] * res[i]\n",
    "        return res        \n",
    "\n",
    "    def avr_actual_surv_rate(self, m):\n",
    "        \"\"\"Averages actual survival rate over 100 stages.\"\"\"\n",
    "        if m <= 50:\n",
    "            res2 = self.compute_actual_surv_rate(m+100)\n",
    "            for i in range(m,m+100):\n",
    "                res2 += self.compute_actual_surv_rate(i)\n",
    "            return res2/100\n",
    "        if m >= self.n_stage-50:\n",
    "            res2 = self.compute_actual_surv_rate(self.n_stage-101)\n",
    "            for i in range(self.n_stage-100,self.n_stage-1):\n",
    "                res2 += self.compute_actual_surv_rate(i)\n",
    "            return res2/100\n",
    "        else:\n",
    "            res2 = self.compute_actual_surv_rate(m+50)\n",
    "            for i in range(m-50,m+50):\n",
    "                res2 += self.compute_actual_surv_rate(i)\n",
    "            return res2/100\n"
   ]
  },
  {
   "cell_type": "code",
   "execution_count": 70,
   "metadata": {
    "collapsed": true
   },
   "outputs": [],
   "source": [
    "class het(object):\n",
    "    \n",
    "    \"\"\" This class allows to averaging 10 consecutive intervals to plot the genome evolution scatterplot \"\"\"\n",
    "    \n",
    "    def __init__(self, inp):\n",
    "        self.inp = inp\n",
    "        self.rng = range(len(self.inp[0]))[::10]\n",
    "\n",
    "    def loop1(self, ind):\n",
    "        self.ind = int(ind)\n",
    "        return [np.average(self.inp[self.ind][i:i+10]) for i in self.rng]\n",
    "    \n",
    "    def loop2(self):\n",
    "        return [self.loop1(i) for i in range(len(self.inp))]"
   ]
  },
  {
   "cell_type": "code",
   "execution_count": 71,
   "metadata": {
    "collapsed": true
   },
   "outputs": [],
   "source": [
    "s = '/Volumes/group_dv/personal/DValenzano/month-by-month/Sep2015/simul-paper/pop/plot_values_run1.txt'"
   ]
  },
  {
   "cell_type": "code",
   "execution_count": 72,
   "metadata": {
    "collapsed": true
   },
   "outputs": [],
   "source": [
    "spop = cp(s)\n",
    "sp = spop.pop_in\n",
    "sr = spop.res_in"
   ]
  },
  {
   "cell_type": "code",
   "execution_count": 79,
   "metadata": {
    "collapsed": false
   },
   "outputs": [],
   "source": [
    "pop_5k = sp[:5000]\n",
    "res_5k = sr[:5000]\n",
    "time = range(1,5001)"
   ]
  },
  {
   "cell_type": "code",
   "execution_count": 80,
   "metadata": {
    "collapsed": false
   },
   "outputs": [],
   "source": [
    "p = ['population']+[str(i) for i in pop_5k]\n",
    "r = ['resources']+[str(i) for i in res_5k]\n",
    "t = ['time']+[str(i) for i in time]\n",
    "\n",
    "l = [p,r,t]\n",
    "lt = zip(*l)\n",
    "#ltl = [list(i) for i in lt]\n",
    "ltl = ','.join([','.join(list(i))+'\\n' for i in lt]).replace('\\n,','\\n')\n",
    "z = open('/Volumes/group_dv/personal/DValenzano/month-by-month/Sep2015/simul-paper/pop/popres2.csv','w')\n",
    "z.write(ltl)\n",
    "z.close()"
   ]
  },
  {
   "cell_type": "markdown",
   "metadata": {
    "collapsed": true
   },
   "source": [
    "Below I analyse the pop run analysis to generate the figure for the genome evolution - started on 15-Sep-2015"
   ]
  },
  {
   "cell_type": "code",
   "execution_count": 83,
   "metadata": {
    "collapsed": true
   },
   "outputs": [],
   "source": [
    "s1 = '/Volumes/group_dv/personal/DValenzano/month-by-month/Sep2015/simul-paper/pop/first-run/plot_values_run1.txt'\n",
    "s2 = '/Volumes/group_dv/personal/DValenzano/month-by-month/Sep2015/simul-paper/pop/second-run/plot_values_run1.txt'\n",
    "sz = '/Volumes/group_dv/personal/DValenzano/month-by-month/Sep2015/simul-paper/pop/last-run/plot_values_run1.txt'\n",
    "\n",
    "s1_c = cp(s1)\n",
    "s2_c = cp(s2)\n",
    "sz_c = cp(sz)"
   ]
  },
  {
   "cell_type": "code",
   "execution_count": 93,
   "metadata": {
    "collapsed": false
   },
   "outputs": [],
   "source": [
    "hcs1 = het(s1_c.hetrz_mea)\n",
    "red1 = hcs1.loop2()\n",
    "hcsz = het(sz_c.hetrz_mea)\n",
    "redz = hcsz.loop2()"
   ]
  },
  {
   "cell_type": "markdown",
   "metadata": {},
   "source": [
    "In the following block I generate the het progression for stage 0, 1.6k, 5k, 10k and 60k"
   ]
  },
  {
   "cell_type": "code",
   "execution_count": 96,
   "metadata": {
    "collapsed": false
   },
   "outputs": [],
   "source": [
    "a = ','.join([str(i) for i in red1[0]]).replace(',',',0\\n')+',0\\n'\n",
    "b = ','.join([str(i) for i in red1[2]]).replace(',',',1\\n')+',1\\n'\n",
    "c = ','.join([str(i) for i in red1[5]]).replace(',',',3\\n')+',3\\n'\n",
    "d = ','.join([str(i) for i in red1[11]]).replace(',',',6\\n')+',6\\n'\n",
    "z = ','.join([str(i) for i in redz[-9]]).replace(',',',z\\n')+',z\\n'\n",
    "abcdz = 'het,group\\n'+a+b+c+d+z"
   ]
  },
  {
   "cell_type": "code",
   "execution_count": 97,
   "metadata": {
    "collapsed": true
   },
   "outputs": [],
   "source": [
    "z = open('/Volumes/group_dv/personal/DValenzano/month-by-month/Sep2015/simul-paper/pop/het-freq.csv', 'w')\n",
    "z.write(abcdz)\n",
    "z.close()"
   ]
  },
  {
   "cell_type": "markdown",
   "metadata": {},
   "source": [
    "In the block below I generate the sd progression for the sex-pop evol"
   ]
  },
  {
   "cell_type": "code",
   "execution_count": 100,
   "metadata": {
    "collapsed": false
   },
   "outputs": [],
   "source": [
    "sdcsz = het(sz_c.hetrz_mea_sd)\n",
    "sd_red = sdcsz.loop2()\n",
    "scz_sd_60k = sd_red[-9]\n",
    "\n",
    "sd_cs1 = het(s1_c.hetrz_mea_sd)\n",
    "sd_red1 = sd_cs1.loop2()\n",
    "\n",
    "sd_a = ','.join([str(i) for i in sd_red1[0]]).replace(',',',0\\n')+',0\\n'\n",
    "sd_b = ','.join([str(i) for i in sd_red1[2]]).replace(',',',1\\n')+',1\\n'\n",
    "sd_c = ','.join([str(i) for i in sd_red1[5]]).replace(',',',3\\n')+',3\\n'\n",
    "sd_d = ','.join([str(i) for i in sd_red1[11]]).replace(',',',6\\n')+',6\\n'\n",
    "sd_z = ','.join([str(i) for i in scz_sd_60k]).replace(',',',z\\n')+',z\\n'\n",
    "sd_abcdz = 'het,group\\n'+sd_a+sd_b+sd_c+sd_d+sd_z\n",
    "\n",
    "z = open('/Volumes/group_dv/personal/DValenzano/month-by-month/Sep2015/simul-paper/pop/het-sd.csv', 'w')\n",
    "z.write(sd_abcdz)\n",
    "z.close()"
   ]
  },
  {
   "cell_type": "markdown",
   "metadata": {},
   "source": [
    "Here below I generate a figure where I compare - in the sexual model - const vs pop with low and high resources. "
   ]
  },
  {
   "cell_type": "code",
   "execution_count": 171,
   "metadata": {
    "collapsed": true
   },
   "outputs": [],
   "source": [
    "large_pop_early = '/Volumes/group_dv/personal/DValenzano/month-by-month/Sep2015/simul-paper/pop/first-run/plot_values_run1.txt'\n",
    "large_pop_late = '/Volumes/group_dv/personal/DValenzano/month-by-month/Sep2015/simul-paper/pop/last-run/plot_values_run1.txt'\n",
    "large_const_early = '/Volumes/group_dv/personal/DValenzano/papers/simulation_arXiv/Figure3/first-run/plot_values_run1.txt'\n",
    "large_const_late = '/Volumes/group_dv/personal/DValenzano/month-by-month/Jun2015/simul/sex/17-Jun-2015/plot_values_run1.txt'\n",
    "\n",
    "small_pop_early = '/Volumes/group_dv/personal/DValenzano/month-by-month/Sep2015/simul-paper/pop/small-popsize/pop-first.txt'\n",
    "small_pop_late = '/Volumes/group_dv/personal/DValenzano/month-by-month/Sep2015/simul-paper/pop/small-popsize/pop-last.txt'\n",
    "small_const_early = '/Volumes/group_dv/personal/DValenzano/month-by-month/Sep2015/simul-paper/pop/small-popsize/const-first.txt'\n",
    "small_const_late = '/Volumes/group_dv/personal/DValenzano/month-by-month/Sep2015/simul-paper/pop/small-popsize/const-last.txt'"
   ]
  },
  {
   "cell_type": "code",
   "execution_count": 172,
   "metadata": {
    "collapsed": true
   },
   "outputs": [],
   "source": [
    "lpe = cp(large_pop_early)\n",
    "lpl = cp(large_pop_late)\n",
    "lce = cp(large_const_early)\n",
    "lcl = cp(large_const_late)\n",
    "spe = cp(small_pop_early)\n",
    "spl = cp(small_pop_late)    \n",
    "sce = cp(small_const_early)\n",
    "scl = cp(small_const_late)"
   ]
  },
  {
   "cell_type": "markdown",
   "metadata": {},
   "source": [
    "I need to types of plots: one where I show early and late pop-res oscillations in the small and large populations,  \n",
    "both constant and pop"
   ]
  },
  {
   "cell_type": "code",
   "execution_count": 175,
   "metadata": {
    "collapsed": true
   },
   "outputs": [],
   "source": [
    "# This gives the arrays that enable me to compute Si and Ri values in large and small early and late stages for \n",
    "# \"const\" and \"pop\" runs\n",
    "\n",
    "hlpe = het(lpe.hetrz_mea)\n",
    "red_lpe = hlpe.loop2()\n",
    "\n",
    "hlpl = het(lpl.hetrz_mea)\n",
    "red_lpl = hlpl.loop2()\n",
    "\n",
    "hlce = het(lce.hetrz_mea)\n",
    "red_lce = hlce.loop2()\n",
    "\n",
    "hlcl = het(lcl.hetrz_mea)\n",
    "red_lcl = hlcl.loop2()\n",
    "\n",
    "hspe = het(spe.hetrz_mea)\n",
    "red_spe = hspe.loop2()\n",
    "\n",
    "hspl = het(spl.hetrz_mea)\n",
    "red_spl = hspl.loop2()\n",
    "\n",
    "hsce = het(sce.hetrz_mea)\n",
    "red_sce = hsce.loop2()\n",
    "\n",
    "hscl = het(scl.hetrz_mea)\n",
    "red_scl = hscl.loop2()"
   ]
  },
  {
   "cell_type": "code",
   "execution_count": 158,
   "metadata": {
    "collapsed": true
   },
   "outputs": [],
   "source": [
    "# This gives the arrays that enable me to compute pop and resources values in large and small early and late \n",
    "# stages for \"const\" and \"pop\" runs\n",
    "\n",
    "lpe_pop = lpe.pop_in\n",
    "lpe_res = lpe.res_in\n",
    "\n",
    "lpl_pop = lpl.pop_in\n",
    "lpl_res = lpl.res_in\n",
    "\n",
    "lce_pop = lce.pop_in\n",
    "lce_res = lce.res_in\n",
    "\n",
    "lcl_pop = lcl.pop_in\n",
    "lcl_res = lcl.res_in\n",
    "\n",
    "spe_pop = spe.pop_in\n",
    "spe_res = spe.res_in\n",
    "\n",
    "spl_pop = spl.pop_in\n",
    "spl_res = spl.res_in\n",
    "\n",
    "sce_pop = sce.pop_in\n",
    "sce_res = sce.res_in\n",
    "\n",
    "scl_pop = scl.pop_in\n",
    "scl_res = scl.res_in"
   ]
  },
  {
   "cell_type": "markdown",
   "metadata": {},
   "source": [
    "First, I do the population-resources plot"
   ]
  },
  {
   "cell_type": "code",
   "execution_count": 132,
   "metadata": {
    "collapsed": false
   },
   "outputs": [],
   "source": [
    "# For large populations - sex-pop:\n",
    "lpe_p = lpe_pop[:6000]\n",
    "lpe_r = lpe_res[:6000]\n",
    "lpl_p = lpl_pop[9000:15000]\n",
    "lpl_r = lpl_res[9000:15000]\n",
    "lp_time = range(1,6001)+range(54001,60000)\n",
    "\n",
    "lp_p = ['population']+[str(i) for i in lpe_p]+[str(i) for i in lpl_p]\n",
    "lp_r = ['resources']+[str(i) for i in lpe_r]+[str(i) for i in lpl_r]\n",
    "lp_t = ['time']+[str(i) for i in lp_time]\n",
    "\n",
    "lp = [lp_p,lp_r,lp_t]\n",
    "lptr = zip(*lp)\n",
    "#ltl = [list(i) for i in lt]\n",
    "lptr_l = ','.join([','.join(list(i))+'\\n' for i in lptr]).replace('\\n,','\\n')"
   ]
  },
  {
   "cell_type": "code",
   "execution_count": 133,
   "metadata": {
    "collapsed": true
   },
   "outputs": [],
   "source": [
    "z = open('/Volumes/group_dv/personal/DValenzano/month-by-month/Sep2015/simul-paper/pop/large-sex-popres.csv','w')\n",
    "z.write(lptr_l)\n",
    "z.close()"
   ]
  },
  {
   "cell_type": "code",
   "execution_count": 163,
   "metadata": {
    "collapsed": false
   },
   "outputs": [],
   "source": [
    "# For large populations - sex-const:\n",
    "lce_p = lce_pop[:6000]\n",
    "lce_r = lce_res[:6000]\n",
    "lcl_p = lcl_pop[-6000:]\n",
    "lcl_r = lcl_res[-6000:]\n",
    "lc_time = range(1,6001)+range(54001,60001)\n",
    "\n",
    "lc_p = ['population']+[str(i) for i in lce_p]+[str(i) for i in lcl_p]\n",
    "lc_r = ['resources']+[str(i) for i in lce_r]+[str(i) for i in lcl_r]\n",
    "lc_t = ['time']+[str(i) for i in lc_time]\n",
    "\n",
    "lc = [lc_p,lc_r,lc_t]\n",
    "lctr = zip(*lc)\n",
    "lctr_l = ','.join([','.join(list(i))+'\\n' for i in lctr]).replace('\\n,','\\n')\n",
    "\n",
    "z = open('/Volumes/group_dv/personal/DValenzano/month-by-month/Sep2015/simul-paper/pop/large-sex-constres.csv','w')\n",
    "z.write(lctr_l)\n",
    "z.close()"
   ]
  },
  {
   "cell_type": "code",
   "execution_count": 155,
   "metadata": {
    "collapsed": false
   },
   "outputs": [],
   "source": [
    "# For small populations - sex-pop:\n",
    "spe_p = spe_pop[:6000]\n",
    "spe_r = spe_res[:6000]\n",
    "spl_p = spl_pop[-6000:]\n",
    "spl_r = spl_res[-6000:]\n",
    "sp_time = range(1,6001)+range(54001,60001)\n",
    "\n",
    "sp_p = ['population']+[str(i) for i in spe_p]+[str(i) for i in spl_p]\n",
    "sp_r = ['resources']+[str(i) for i in spe_r]+[str(i) for i in spl_r]\n",
    "sp_t = ['time']+[str(i) for i in sp_time]\n",
    "\n",
    "sp = [sp_p,sp_r,sp_t]\n",
    "sptr = zip(*sp)\n",
    "#ltl = [list(i) for i in lt]\n",
    "sptr_l = ','.join([','.join(list(i))+'\\n' for i in sptr]).replace('\\n,','\\n')\n",
    "\n",
    "z = open('/Volumes/group_dv/personal/DValenzano/month-by-month/Sep2015/simul-paper/pop/small-sex-popres.csv','w')\n",
    "z.write(sptr_l)\n",
    "z.close()"
   ]
  },
  {
   "cell_type": "code",
   "execution_count": 151,
   "metadata": {
    "collapsed": false
   },
   "outputs": [],
   "source": [
    "# For small populations - const-pop:\n",
    "sce_p = sce_pop[:6000]\n",
    "sce_r = sce_res[:6000]\n",
    "scl_p = scl_pop[-6000:]\n",
    "scl_r = scl_res[-6000:]\n",
    "sc_time = range(1,6001)+range(54001,60001)\n",
    "\n",
    "sc_p = ['population']+[str(i) for i in sce_p]+[str(i) for i in scl_p]\n",
    "sc_r = ['resources']+[str(i) for i in sce_r]+[str(i) for i in scl_r]\n",
    "sc_t = ['time']+[str(i) for i in sc_time]\n",
    "\n",
    "sc = [sc_p,sc_r,sc_t]\n",
    "sctr = zip(*sc)\n",
    "#ltl = [list(i) for i in lt]\n",
    "sctr_l = ','.join([','.join(list(i))+'\\n' for i in sctr]).replace('\\n,','\\n')\n",
    "\n",
    "z = open('/Volumes/group_dv/personal/DValenzano/month-by-month/Sep2015/simul-paper/pop/small-sex-constres.csv','w')\n",
    "z.write(sctr_l)\n",
    "z.close()"
   ]
  },
  {
   "cell_type": "markdown",
   "metadata": {},
   "source": [
    "16-Sep-2015 is from here  \n",
    "Below, I extract, for the 60k's stage, and compare the trend of the surv-repr plot in large and small populations"
   ]
  },
  {
   "cell_type": "code",
   "execution_count": 229,
   "metadata": {
    "collapsed": true
   },
   "outputs": [],
   "source": [
    "lps_z = red_lpl[-9]\n",
    "lcs_z = red_lcl[-1]\n",
    "sps_z = red_spl[-1]\n",
    "scs_z = red_scl[-1]"
   ]
  },
  {
   "cell_type": "code",
   "execution_count": 177,
   "metadata": {
    "collapsed": false
   },
   "outputs": [],
   "source": [
    "a = ','.join([str(i) for i in lps_z]).replace(',',',lps\\n')+',lps\\n'\n",
    "b = ','.join([str(i) for i in lcs_z]).replace(',',',lcs\\n')+',lcs\\n'\n",
    "c = ','.join([str(i) for i in sps_z]).replace(',',',sps\\n')+',sps\\n'\n",
    "d = ','.join([str(i) for i in scs_z]).replace(',',',scs\\n')+',scs\\n'\n",
    "abcd = 'surv,group\\n'+a+b+c+d\n",
    "\n",
    "z = open('/Volumes/group_dv/personal/DValenzano/month-by-month/Sep2015/simul-paper/pop/small-large_surv.csv', 'w')\n",
    "z.write(abcd)\n",
    "z.close()"
   ]
  },
  {
   "cell_type": "markdown",
   "metadata": {},
   "source": [
    "From here it's 17-Sep-2015  \n",
    "Below, I extract the population-resources oscillations for the asexual model"
   ]
  },
  {
   "cell_type": "code",
   "execution_count": 180,
   "metadata": {
    "collapsed": true
   },
   "outputs": [],
   "source": [
    "# First, large population (5k)\n",
    "\n",
    "lp_e_as = '/Volumes/group_dv/personal/DValenzano/month-by-month/Sep2015/simul-paper/asex/lpe/plot_values_run1.txt'\n",
    "lp_l_as = '/Volumes/group_dv/personal/DValenzano/month-by-month/Sep2015/simul-paper/asex/lpl/plot_values_run1.txt'\n",
    "lc_e_as = '/Volumes/group_dv/personal/DValenzano/month-by-month/Sep2015/simul-paper/asex/lce/plot_values_run1.txt'\n",
    "lc_l_as = '/Volumes/group_dv/personal/DValenzano/month-by-month/Sep2015/simul-paper/asex/lcl/plot_values_run1.txt'\n",
    "\n",
    "#sp_e_as = '/Volumes/group_dv/personal/DValenzano/month-by-month/Sep2015/simul-paper/asex/spe/plot_values_run1.txt'\n",
    "#sp_l_as = '/Volumes/group_dv/personal/DValenzano/month-by-month/Sep2015/simul-paper/asex/spl/plot_values_run1.txt'\n",
    "#sc_e_as = '/Volumes/group_dv/personal/DValenzano/month-by-month/Sep2015/simul-paper/asex/sce/plot_values_run1.txt'\n",
    "#sc_l_as = '/Volumes/group_dv/personal/DValenzano/month-by-month/Sep2015/simul-paper/asex/scl/plot_values_run1.txt'"
   ]
  },
  {
   "cell_type": "code",
   "execution_count": 197,
   "metadata": {
    "collapsed": false
   },
   "outputs": [],
   "source": [
    "# This gives the arrays that enable me to compute pop and resources values in large populations, for early and late \n",
    "# stages in \"const\" and \"pop\" runs\n",
    "\n",
    "lpe_as = cp(lp_e_as)\n",
    "lpl_as = cp(lp_l_as)\n",
    "lce_as = cp(lc_e_as)\n",
    "lcl_as = cp(lc_l_as)\n",
    "\n",
    "lpe_as_p = lpe_as.pop_in\n",
    "lpe_as_r = lpe_as.res_in\n",
    "\n",
    "lpl_as_p = lpl_as.pop_in\n",
    "lpl_as_r = lpl_as.res_in\n",
    "\n",
    "lce_as_p = lce_as.pop_in\n",
    "lce_as_r = lce_as.res_in\n",
    "\n",
    "lcl_as_p = lcl_as.pop_in\n",
    "lcl_as_r = lcl_as.res_in"
   ]
  },
  {
   "cell_type": "code",
   "execution_count": 198,
   "metadata": {
    "collapsed": true
   },
   "outputs": [],
   "source": [
    "# This gives the arrays that enable me to compute pop and resources values in small populations, for early and late \n",
    "# stages in \"const\" and \"pop\" runs\n",
    "\n",
    "#spe_as = cp(sp_e_as)\n",
    "#spl_as = cp(sp_l_as)\n",
    "#sce_as = cp(sc_e_as)\n",
    "#scl_as = cp(sc_l_as)\n",
    "\n",
    "#spe_as_p = spe_as.pop_in\n",
    "#spe_as_r = spe_as.res_in\n",
    "\n",
    "#spl_as_p = spl_as.pop_in\n",
    "#spl_as_r = spl_as.res_in\n",
    "\n",
    "#sce_as_p = sce_as.pop_in\n",
    "#sce_as_r = sce_as.res_in\n",
    "\n",
    "#scl_as_p = scl_as.pop_in\n",
    "#scl_as_r = scl_as.res_in"
   ]
  },
  {
   "cell_type": "code",
   "execution_count": 183,
   "metadata": {
    "collapsed": true
   },
   "outputs": [],
   "source": [
    "# For large populations - asex-const:\n",
    "lce_asp = lce_as_p[:6000]\n",
    "lce_asr = lce_as_r[:6000]\n",
    "lcl_asp = lcl_as_p[-6000:]\n",
    "lcl_asr = lcl_as_r[-6000:]\n",
    "lc_astime = range(1,6001)+range(54001,60001)\n",
    "\n",
    "lc_asp = ['population']+[str(i) for i in lce_asp]+[str(i) for i in lcl_asp]\n",
    "lc_asr = ['resources']+[str(i) for i in lce_asr]+[str(i) for i in lcl_asr]\n",
    "lc_ast = ['time']+[str(i) for i in lc_astime]\n",
    "\n",
    "lc_as = [lc_asp,lc_asr,lc_ast]\n",
    "lctr_as = zip(*lc_as)\n",
    "lctr_as_l = ','.join([','.join(list(i))+'\\n' for i in lctr_as]).replace('\\n,','\\n')\n",
    "\n",
    "z = open('/Volumes/group_dv/personal/DValenzano/month-by-month/Sep2015/simul-paper/asex/large-sex-constres.csv','w')\n",
    "z.write(lctr_as_l)\n",
    "z.close()"
   ]
  },
  {
   "cell_type": "code",
   "execution_count": 184,
   "metadata": {
    "collapsed": true
   },
   "outputs": [],
   "source": [
    "# For large populations - asex-pop:\n",
    "lpe_asp = lpe_as_p[:6000]\n",
    "lpe_asr = lpe_as_r[:6000]\n",
    "lpl_asp = lpl_as_p[-6000:]\n",
    "lpl_asr = lpl_as_r[-6000:]\n",
    "lp_astime = range(1,6001)+range(54001,60001)\n",
    "\n",
    "lp_asp = ['population']+[str(i) for i in lpe_asp]+[str(i) for i in lpl_asp]\n",
    "lp_asr = ['resources']+[str(i) for i in lpe_asr]+[str(i) for i in lpl_asr]\n",
    "lp_ast = ['time']+[str(i) for i in lp_astime]\n",
    "\n",
    "lp_as = [lp_asp,lp_asr,lp_ast]\n",
    "lptr_as = zip(*lp_as)\n",
    "lptr_as_l = ','.join([','.join(list(i))+'\\n' for i in lptr_as]).replace('\\n,','\\n')\n",
    "\n",
    "z = open('/Volumes/group_dv/personal/DValenzano/month-by-month/Sep2015/simul-paper/asex/large-sex-popres.csv','w')\n",
    "z.write(lptr_as_l)\n",
    "z.close()"
   ]
  },
  {
   "cell_type": "code",
   "execution_count": null,
   "metadata": {
    "collapsed": true
   },
   "outputs": [],
   "source": [
    "# For small populations - asex-const:\n",
    "#sce_asp = sce_as_p[:6000]\n",
    "#sce_asr = sce_as_r[:6000]\n",
    "#scl_asp = scl_as_p[-6000:]\n",
    "#scl_asr = scl_as_r[-6000:]\n",
    "#sc_astime = range(1,6001)+range(54001,60001)\n",
    "\n",
    "#sc_asp = ['population']+[str(i) for i in sce_asp]+[str(i) for i in scl_asp]\n",
    "#sc_asr = ['resources']+[str(i) for i in sce_asr]+[str(i) for i in scl_asr]\n",
    "#sc_ast = ['time']+[str(i) for i in sc_astime]\n",
    "\n",
    "#sc_as = [sc_asp,sc_asr,sc_ast]\n",
    "#sctr_as = zip(*sc_as)\n",
    "#sctr_as_l = ','.join([','.join(list(i))+'\\n' for i in sctr_as]).replace('\\n,','\\n')\n",
    "\n",
    "#z = open('/Volumes/group_dv/personal/DValenzano/month-by-month/Sep2015/simul-paper/asex/small-sex-constres.csv','w')\n",
    "#z.write(sctr_as_l)\n",
    "#z.close()\n",
    "\n",
    "# For small populations - asex-pop:\n",
    "#spe_asp = spe_as_p[:6000]\n",
    "#spe_asr = spe_as_r[:6000]\n",
    "#spl_asp = spl_as_p[-6000:]\n",
    "#spl_asr = spl_as_r[-6000:]\n",
    "#sp_astime = range(1,6001)+range(54001,60001)\n",
    "\n",
    "#sp_asp = ['population']+[str(i) for i in spe_asp]+[str(i) for i in spl_asp]\n",
    "#sp_asr = ['resources']+[str(i) for i in spe_asr]+[str(i) for i in spl_asr]\n",
    "#sp_ast = ['time']+[str(i) for i in sp_astime]\n",
    "\n",
    "#sp_as = [sp_asp,sp_asr,sp_ast]\n",
    "#sptr_as = zip(*sp_as)\n",
    "#sptr_as_l = ','.join([','.join(list(i))+'\\n' for i in sptr_as]).replace('\\n,','\\n')\n",
    "\n",
    "#z = open('/Volumes/group_dv/personal/DValenzano/month-by-month/Sep2015/simul-paper/asex/small-sex-popres.csv','w')\n",
    "#z.write(sptr_as_l)\n",
    "#z.close()"
   ]
  },
  {
   "cell_type": "code",
   "execution_count": 185,
   "metadata": {
    "collapsed": true
   },
   "outputs": [],
   "source": [
    "# For large populations, 60kth stage - surv-repr\n",
    "\n",
    "hlpl_as = het(lpl_as.hetrz_mea)\n",
    "red_lpl_as = hlpl_as.loop2()\n",
    "\n",
    "hlcl_as = het(lcl_as.hetrz_mea)\n",
    "red_lcl_as = hlcl_as.loop2()\n",
    "\n",
    "lps_as_z = red_lpl_as[-1]\n",
    "lcs_as_z = red_lcl_as[-1]\n",
    "\n",
    "a_as = ','.join([str(i) for i in lps_as_z]).replace(',',',lps\\n')+',lps\\n'\n",
    "b_as = ','.join([str(i) for i in lcs_as_z]).replace(',',',lcs\\n')+',lcs\\n'\n",
    "ab_as = 'surv,group\\n'+a_as+b_as\n",
    "\n",
    "z = open('/Volumes/group_dv/personal/DValenzano/month-by-month/Sep2015/simul-paper/asex/large_surv_repr.csv', 'w')\n",
    "z.write(ab_as)\n",
    "z.close()"
   ]
  },
  {
   "cell_type": "code",
   "execution_count": 199,
   "metadata": {
    "collapsed": true
   },
   "outputs": [],
   "source": [
    "# For small populations, 60kth stage - surv-repr\n",
    "\n",
    "#hspl_as = het(spl_as.hetrz_mea)\n",
    "#red_spl_as = hspl_as.loop2()\n",
    "\n",
    "#hscl_as = het(scl_as.hetrz_mea)\n",
    "#red_scl_as = hscl_as.loop2()\n",
    "\n",
    "#sps_as_z = red_spl_as[-1]\n",
    "#scs_as_z = red_scl_as[-1]\n",
    "\n",
    "#c_as = ','.join([str(i) for i in sps_as_z]).replace(',',',sps\\n')+',sps\\n'\n",
    "#d_as = ','.join([str(i) for i in scs_as_z]).replace(',',',scs\\n')+',scs\\n'\n",
    "#cd_as = 'surv,group\\n'+c_as+d_as\n",
    "\n",
    "#z = open('/Volumes/group_dv/personal/DValenzano/month-by-month/Sep2015/simul-paper/asex/small_surv_repr.csv', 'w')\n",
    "#z.write(cd_as)\n",
    "#z.close()"
   ]
  },
  {
   "cell_type": "code",
   "execution_count": 187,
   "metadata": {
    "collapsed": false
   },
   "outputs": [],
   "source": [
    "# Now off to doing the very large population - 25k individuals - pop-resources\n",
    "llc_e_as = '/Volumes/group_dv/personal/DValenzano/month-by-month/Sep2015/simul-paper/asex/llce/plot_values_run1.txt'\n",
    "llc_l_as = '/Volumes/group_dv/personal/DValenzano/month-by-month/Sep2015/simul-paper/asex/llcl/plot_values_run1.txt'\n",
    "\n",
    "llce_as = cp(llc_e_as)\n",
    "llcl_as = cp(llc_l_as)\n",
    "\n",
    "llce_as_p = llce_as.pop_in\n",
    "llce_as_r = llce_as.res_in\n",
    "\n",
    "llcl_as_p = llcl_as.pop_in\n",
    "llcl_as_r = llcl_as.res_in\n",
    "\n",
    "# For very large populations - asex-const:\n",
    "llce_asp = llce_as_p[:6000]\n",
    "llce_asr = llce_as_r[:6000]\n",
    "llcl_asp = llcl_as_p[-6000:]\n",
    "llcl_asr = llcl_as_r[-6000:]\n",
    "llc_astime = range(1,6001)+range(54001,60001)\n",
    "\n",
    "llc_asp = ['population']+[str(i) for i in llce_asp]+[str(i) for i in llcl_asp]\n",
    "llc_asr = ['resources']+[str(i) for i in llce_asr]+[str(i) for i in llcl_asr]\n",
    "llc_ast = ['time']+[str(i) for i in llc_astime]\n",
    "\n",
    "llc_as = [llc_asp,llc_asr,llc_ast]\n",
    "llctr_as = zip(*llc_as)\n",
    "llctr_as_l = ','.join([','.join(list(i))+'\\n' for i in llctr_as]).replace('\\n,','\\n')\n",
    "\n",
    "z = open('/Volumes/group_dv/personal/DValenzano/month-by-month/Sep2015/simul-paper/asex/very-large-sex-constres.csv','w')\n",
    "z.write(llctr_as_l)\n",
    "z.close()"
   ]
  },
  {
   "cell_type": "code",
   "execution_count": 196,
   "metadata": {
    "collapsed": false
   },
   "outputs": [],
   "source": [
    "# This generates the 60kth stage survival-reproduction plot for small, large, and very large populations, in the \n",
    "# constant resources condition\n",
    "\n",
    "#hllcl_as = het(llcl_as.hetrz_mea)\n",
    "#red_llcl_as = hllcl_as.loop2()\n",
    "\n",
    "#lps_as_z = red_lpl_as[-1]\n",
    "#lcs_as_z = red_lcl_as[-1]\n",
    "#sps_as_z = red_spl_as[-1]\n",
    "#scs_as_z = red_scl_as[-1]\n",
    "#llcs_as_z = red_llcl_as[-1]\n",
    "\n",
    "#a_as = ','.join([str(i) for i in lps_as_z]).replace(',',',lps\\n')+',lps\\n'\n",
    "#b_as = ','.join([str(i) for i in lcs_as_z]).replace(',',',lcs\\n')+',lcs\\n'\n",
    "#c_as = ','.join([str(i) for i in sps_as_z]).replace(',',',sps\\n')+',sps\\n'\n",
    "#d_as = ','.join([str(i) for i in scs_as_z]).replace(',',',scs\\n')+',scs\\n'\n",
    "#e_as = ','.join([str(i) for i in llcs_as_z]).replace(',',',llcs\\n')+',llcs\\n'\n",
    "#abcde_as = 'surv,group\\n'+a_as+b_as+c_as+d_as+e_as\n",
    "\n",
    "#z = open('/Volumes/group_dv/personal/DValenzano/month-by-month/Sep2015/simul-paper/asex/small-large_surv.csv', 'w')\n",
    "#z.write(abcde_as)\n",
    "#z.close()"
   ]
  },
  {
   "cell_type": "code",
   "execution_count": 259,
   "metadata": {
    "collapsed": false
   },
   "outputs": [],
   "source": [
    "# This box computes the expected survival and reproduction value, given the junk DNA string\n",
    "\n",
    "# First, for the sex reproduction\n",
    "\n",
    "Jlcr = float(lcl.repr_rate_junk_in[-1])/0.4\n",
    "Jlcs = (float(lcl.surv_rate_junk_in[-1])-0.98)/0.02\n",
    "Jlpr = float(lpl.repr_rate_junk_in[-1])/0.4\n",
    "Jlps = (float(lpl.surv_rate_junk_in[-1])-0.98)/0.02\n",
    "Jscr = float(scl.repr_rate_junk_in[-1])/0.4\n",
    "Jscs = (float(scl.surv_rate_junk_in[-1])-0.98)/0.02\n",
    "Jspr = float(spl.repr_rate_junk_in[-1])/0.4\n",
    "Jsps = (float(spl.surv_rate_junk_in[-1])-0.98)/0.02\n",
    "\n",
    "Jlc = ((str(Jlcs)+',')*71+(str(Jlcr)+',')*55).split(',')\n",
    "Jlp = ((str(Jlps)+',')*71+(str(Jlpr)+',')*55).split(',')\n",
    "Jsc = ((str(Jscs)+',')*71+(str(Jscr)+',')*55).split(',')\n",
    "Jsp = ((str(Jsps)+',')*71+(str(Jspr)+',')*55).split(',')\n",
    "\n",
    "Jnk_s = 'Jlc,Jlp,Jsc,Jsp\\n'+','.join([','.join(list(i))+'\\n' for i in zip(Jlc, Jlp, Jsc, Jsp)]).replace('\\n,','\\n')\n",
    "\n",
    "z = open('/Volumes/group_dv/personal/DValenzano/month-by-month/Sep2015/simul-paper/Jnk_sex', 'w')\n",
    "z.write(Jnk_s)\n",
    "z.close()"
   ]
  },
  {
   "cell_type": "code",
   "execution_count": null,
   "metadata": {
    "collapsed": true
   },
   "outputs": [],
   "source": []
  }
 ],
 "metadata": {
  "kernelspec": {
   "display_name": "Python 2",
   "language": "python",
   "name": "python2"
  },
  "language_info": {
   "codemirror_mode": {
    "name": "ipython",
    "version": 2
   },
   "file_extension": ".py",
   "mimetype": "text/x-python",
   "name": "python",
   "nbconvert_exporter": "python",
   "pygments_lexer": "ipython2",
   "version": "2.7.10"
  }
 },
 "nbformat": 4,
 "nbformat_minor": 0
}
