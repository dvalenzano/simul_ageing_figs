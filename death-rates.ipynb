{
 "cells": [
  {
   "cell_type": "code",
   "execution_count": 7,
   "metadata": {
    "collapsed": true
   },
   "outputs": [],
   "source": [
    "import numpy as np\n",
    "from scipy import interpolate\n",
    "#import matplotlib.pyplot as plt\n",
    "import cPickle\n",
    "from time import sleep"
   ]
  },
  {
   "cell_type": "code",
   "execution_count": 8,
   "metadata": {
    "collapsed": true
   },
   "outputs": [],
   "source": [
    "class cp2(object):\n",
    "    def __init__(self, inp):\n",
    "        self.inp = inp\n",
    "        self.o = open(self.inp, 'rb')\n",
    "        self.pop_in = cPickle.load(self.o)\n",
    "        self.n_stage = len(self.pop_in)-1\n",
    "        self.res_in = cPickle.load(self.o)\n",
    "        self.age_distr_in = cPickle.load(self.o)\n",
    "        #print np.shape(age_distr_in[0])                                                                                                                                                                                         \n",
    "        self.repr_rate_in = cPickle.load(self.o)\n",
    "        self.repr_rate_sd_in = cPickle.load(self.o)\n",
    "        for i in range(len(self.repr_rate_sd_in)):\n",
    "            self.repr_rate_sd_in[i] = np.array(self.repr_rate_sd_in[i])\n",
    "            self.repr_rate_sd_in[i].shape = (71,1)\n",
    "        self.repr_rate_junk_in = cPickle.load(self.o)\n",
    "        self.surv_rate_in = cPickle.load(self.o)\n",
    "        self.surv_rate_sd_in = cPickle.load(self.o)\n",
    "        for i in range(len(self.surv_rate_sd_in)):\n",
    "            self.surv_rate_sd_in[i] = np.array(self.surv_rate_sd_in[i])\n",
    "            self.surv_rate_sd_in[i].shape = (71,1)\n",
    "        self.surv_rate_junk_in = cPickle.load(self.o)\n",
    "        self.repr_fit_in = cPickle.load(self.o)\n",
    "        self.repr_fit_junk_in = cPickle.load(self.o)\n",
    "        self.surv_fit_in = cPickle.load(self.o)\n",
    "        self.surv_fit_junk_in = cPickle.load(self.o)\n",
    "        self.fit_in = np.array(self.repr_fit_in)*np.array(self.surv_fit_in)\n",
    "        self.fit_junk_in = np.array(self.repr_fit_junk_in)*np.array(self.surv_fit_junk_in)\n",
    "        self.dens_surv_in = cPickle.load(self.o)\n",
    "        self.dens_repr_in = cPickle.load(self.o)\n",
    "        self.hetrz_mea = cPickle.load(self.o)\n",
    "        self.hetrz_mea_sd = cPickle.load(self.o) # when simul version > 0.6                                                                                                                                                                \n",
    "        self.males_females_ages = cPickle.load(self.o)\n",
    "        self.o.close()\n",
    "                \n",
    "        \n",
    "    def compute_actual_death_rate(self, s):\n",
    "        \"\"\"                                                                                                                                              \n",
    "        Takes age distribution of two consecutive stages. Computes the fraction                                                                          \n",
    "        of those died from age x to age x+1.                                                                                                             \n",
    "        Returns a numpy array.                                                                                                                           \n",
    "        \"\"\"\n",
    "        stage1 = self.age_distr_in[s]*self.pop_in[s]\n",
    "        stage2 = np.array(list((self.age_distr_in[s+1]*self.pop_in[s+1]))[1:]+[0])\n",
    "        div = stage1\n",
    "        div[div == 0] = 1\n",
    "\n",
    "        return (stage1 - stage2) / div\n",
    "    \n",
    "    \n",
    "   \n",
    "    def avr_actual_death_rate(self, s):\n",
    "        \"\"\"Averages actual death rate over 100 stages.\"\"\"\n",
    "        if s <= 50:\n",
    "            res = self.compute_actual_death_rate(s)\n",
    "            for i in range(s+1,s+101):\n",
    "                res += self.compute_actual_death_rate(i)\n",
    "            return res/100\n",
    "        if s >= self.n_stage-120:\n",
    "            res = self.compute_actual_death_rate(self.n_stage-70)\n",
    "            for i in range(self.n_stage-170,self.n_stage-70):\n",
    "                res += self.compute_actual_death_rate(i)\n",
    "            return res/100\n",
    "        else:\n",
    "            res = self.compute_actual_death_rate(s+50)\n",
    "            for i in range(s-50,s+50):\n",
    "                res += self.compute_actual_death_rate(i)\n",
    "            return res/100"
   ]
  },
  {
   "cell_type": "code",
   "execution_count": 9,
   "metadata": {
    "collapsed": true
   },
   "outputs": [],
   "source": [
    "lc_s = '/Volumes/group_dv/personal/DValenzano/month-by-month/Jun2015/simul/sex/17-Jun-2015/plot_values_run1.txt'\n",
    "lp_s = '/Volumes/group_dv/personal/DValenzano/month-by-month/Sep2015/simul-paper/pop/last-run/plot_values_run1.txt'\n",
    "sc_s = '/Volumes/group_dv/personal/DValenzano/month-by-month/Sep2015/simul-paper/pop/small-popsize/const-last.txt'\n",
    "sp_s = '/Volumes/group_dv/personal/DValenzano/month-by-month/Sep2015/simul-paper/pop/small-popsize/pop-last.txt'\n",
    "\n",
    "lc_as = '/Volumes/group_dv/personal/DValenzano/month-by-month/Sep2015/simul-paper/asex/lcl/plot_values_run1.txt'\n",
    "lp_as = '/Volumes/group_dv/personal/DValenzano/month-by-month/Sep2015/simul-paper/asex/lpl/plot_values_run1.txt'\n",
    "sc_as = '/Volumes/group_dv/personal/DValenzano/month-by-month/Sep2015/simul-paper/asex/scl/plot_values_run1.txt'\n",
    "sp_as = '/Volumes/group_dv/personal/DValenzano/month-by-month/Sep2015/simul-paper/asex/spl/plot_values_run1.txt'"
   ]
  },
  {
   "cell_type": "code",
   "execution_count": 10,
   "metadata": {
    "collapsed": false
   },
   "outputs": [],
   "source": [
    "Clc_s = cp2(lc_s)\n",
    "Clp_s = cp2(lp_s)\n",
    "Csc_s = cp2(sc_s)\n",
    "Csp_s = cp2(sp_s)\n",
    "Clc_as = cp2(lc_as)\n",
    "Clp_as = cp2(lp_as)\n",
    "Csc_as = cp2(sc_as)\n",
    "Csp_as = cp2(sp_as)"
   ]
  },
  {
   "cell_type": "code",
   "execution_count": 69,
   "metadata": {
    "collapsed": false
   },
   "outputs": [],
   "source": [
    "Clc_sdr = 'Clc_s,'+','.join([str(i) for i in list(Clc_s.avr_actual_death_rate(Clc_s.n_stage))])\n",
    "Clp_sdr = 'Clp_s,'+','.join([str(i) for i in list(Clp_s.avr_actual_death_rate(Clp_s.n_stage))])\n",
    "Csc_sdr = 'Csc_s,'+','.join([str(i) for i in list(Csc_s.avr_actual_death_rate(Csc_s.n_stage))])\n",
    "Csp_sdr = 'Csp_s,'+','.join([str(i) for i in list(Csp_s.avr_actual_death_rate(Csp_s.n_stage))])\n",
    "Clc_asdr = 'Clc_as,'+','.join([str(i) for i in list(Clc_as.avr_actual_death_rate(Clc_as.n_stage))])\n",
    "Clp_asdr = 'Clp_as,'+','.join([str(i) for i in list(Clp_as.avr_actual_death_rate(Clp_as.n_stage))])\n",
    "Csc_asdr = 'Csc_as,'+','.join([str(i) for i in list(Csc_as.avr_actual_death_rate(Csc_as.n_stage))])\n",
    "Csp_asdr = 'Csp_as,'+','.join([str(i) for i in list(Csp_as.avr_actual_death_rate(Csp_as.n_stage))])\n",
    "xdr = 'Age,'+','.join([str(i) for i in range(71)])\n",
    "\n",
    "drinput = zip(xdr.split(','), Clc_sdr.split(','), Clp_sdr.split(','), Csc_sdr.split(','), Csp_sdr.split(','), Clc_asdr.split(','), Clp_asdr.split(','), Csc_asdr.split(','), Csp_asdr.split(','))\n",
    "drinput1 = ','.join([','.join(list(i))+'\\n' for i in drinput ]).replace('\\n,','\\n')"
   ]
  },
  {
   "cell_type": "code",
   "execution_count": 70,
   "metadata": {
    "collapsed": false
   },
   "outputs": [],
   "source": [
    "z = open('/Volumes/group_dv/personal/DValenzano/month-by-month/Sep2015/simul-paper/death-rate_rinput.csv', 'w')\n",
    "z.write(drinput1)\n",
    "z.close()"
   ]
  },
  {
   "cell_type": "code",
   "execution_count": null,
   "metadata": {
    "collapsed": true
   },
   "outputs": [],
   "source": []
  }
 ],
 "metadata": {
  "kernelspec": {
   "display_name": "Python 2",
   "language": "python",
   "name": "python2"
  },
  "language_info": {
   "codemirror_mode": {
    "name": "ipython",
    "version": 2
   },
   "file_extension": ".py",
   "mimetype": "text/x-python",
   "name": "python",
   "nbconvert_exporter": "python",
   "pygments_lexer": "ipython2",
   "version": "2.7.10"
  }
 },
 "nbformat": 4,
 "nbformat_minor": 0
}
